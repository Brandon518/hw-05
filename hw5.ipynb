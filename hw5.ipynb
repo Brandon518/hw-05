{
  "nbformat": 4,
  "nbformat_minor": 0,
  "metadata": {
    "colab": {
      "name": "hw5.ipynb",
      "provenance": []
    },
    "kernelspec": {
      "name": "python3",
      "display_name": "Python 3"
    },
    "language_info": {
      "name": "python"
    }
  },
  "cells": [
    {
      "cell_type": "code",
      "execution_count": 12,
      "metadata": {
        "colab": {
          "base_uri": "https://localhost:8080/",
          "height": 283
        },
        "id": "iJsOjX4xfks4",
        "outputId": "427cfcbc-3d1a-4cad-ba10-bb6ed6e7ddf7"
      },
      "outputs": [
        {
          "output_type": "stream",
          "name": "stdout",
          "text": [
            "evaluation MSE: 0.013469483940791926\n"
          ]
        },
        {
          "output_type": "display_data",
          "data": {
            "text/plain": [
              "<Figure size 432x288 with 1 Axes>"
            ],
            "image/png": "[encoded data removed]"
          },
          "metadata": {
            "needs_background": "light"
          }
        }
      ],
      "source": [
        "import numpy as np\n",
        "import matplotlib.pyplot as plt\n",
        "import pandas as pd\n",
        "from sklearn.model_selection import train_test_split\n",
        "from sklearn.linear_model import LinearRegression\n",
        "from sklearn.metrics import mean_squared_error\n",
        "from sklearn.preprocessing import StandardScaler\n",
        "\n",
        "data = pd.read_csv(\"https://raw.githubusercontent.com/ThousandAI/pycs4001/main/class06/Salary_Data.csv\")\n",
        "x = np.array(data[\"YearsExperience\"]).reshape(-1,1)\n",
        "y = np.array(data[\"Salary\"]).reshape(-1,1)\n",
        "\n",
        "scaler = StandardScaler()\n",
        "sc_x = scaler.fit_transform(x)\n",
        "sc_y = scaler.fit_transform(y)\n",
        "\n",
        "train_x, test_x, train_y, test_y  = train_test_split(sc_x, sc_y, test_size=0.2, random_state=10)\n",
        "\n",
        "regression = LinearRegression()\n",
        "regression.fit(train_x, train_y)\n",
        "y_p = regression.predict(test_x)\n",
        "print(f\"evaluation MSE: {mean_squared_error(test_y, y_p)}\")\n",
        "Y_pred = regression.predict(sc_x)\n",
        "Y_inv_pred = scaler.inverse_transform(Y_pred)\n",
        "\n",
        "plt.scatter(x, y, s =3)\n",
        "plt.plot(x, Y_inv_pred, color=\"green\")\n",
        "plt.show()"
      ]
    },
    {
      "cell_type": "code",
      "source": [
        "from google.colab import drive\n",
        "drive.mount('/content/drive')"
      ],
      "metadata": {
        "id": "iuSg5XDZsDYT"
      },
      "execution_count": null,
      "outputs": []
    }
  ]
}